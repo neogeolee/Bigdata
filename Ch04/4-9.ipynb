{
 "cells": [
  {
   "cell_type": "code",
   "execution_count": null,
   "metadata": {},
   "outputs": [],
   "source": [
    "\"\"\"\n",
    "날짜 : 2020/08/12\n",
    "이름 : 이태훈\n",
    "내용 : 머신러닝 - mlist 숫자이미지 서포트 벡터 머신 분석 연습\n",
    "\"\"\"\n",
    "import pandas as pd\n",
    "from sklearn import svm, metrics\n",
    "\n",
    "# 데이터프레임 생성\n",
    "df_mnist_train = pd.read_csv('./data/mnist_train.csv')\n",
    "df_mnist_test = pd.read_csv('./data/mnist_test.csv')"
   ]
  },
  {
   "cell_type": "code",
   "execution_count": null,
   "metadata": {},
   "outputs": [],
   "source": [
    "df_mnist_train"
   ]
  },
  {
   "cell_type": "code",
   "execution_count": null,
   "metadata": {},
   "outputs": [],
   "source": [
    "# 학습데이터 준비 및 데이터 초기화\n",
    "df_mnist_train_data  = df_mnist_train.iloc[:, 1:]/255\n",
    "df_mnist_train_label = df_mnist_train.iloc[:, 0]\n",
    "\n",
    "# 테스트데이터 준비 및 데이터 초기화\n",
    "df_mnist_test_data  = df_mnist_test.iloc[:, 1:]/255\n",
    "df_mnist_test_label = df_mnist_test.iloc[:, 0]"
   ]
  },
  {
   "cell_type": "code",
   "execution_count": null,
   "metadata": {},
   "outputs": [],
   "source": [
    "# 학습하기\n",
    "model = svm.SVC()\n",
    "model.fit(df_mnist_train_data, df_mnist_train_label)"
   ]
  },
  {
   "cell_type": "code",
   "execution_count": null,
   "metadata": {},
   "outputs": [],
   "source": [
    "# 검증하기\n",
    "result = model.predict(df_mnist_test_data)"
   ]
  },
  {
   "cell_type": "code",
   "execution_count": null,
   "metadata": {},
   "outputs": [],
   "source": []
  },
  {
   "cell_type": "code",
   "execution_count": null,
   "metadata": {},
   "outputs": [],
   "source": [
    "# 학습률 확인\n",
    "score = metrics.accuracy_score(df_mnist_test_label, result)\n",
    "print(score)"
   ]
  }
 ],
 "metadata": {
  "kernelspec": {
   "display_name": "Python 3",
   "language": "python",
   "name": "python3"
  },
  "language_info": {
   "codemirror_mode": {
    "name": "ipython",
    "version": 3
   },
   "file_extension": ".py",
   "mimetype": "text/x-python",
   "name": "python",
   "nbconvert_exporter": "python",
   "pygments_lexer": "ipython3",
   "version": "3.8.3"
  }
 },
 "nbformat": 4,
 "nbformat_minor": 4
}
